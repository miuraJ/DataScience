{
  "nbformat": 4,
  "nbformat_minor": 0,
  "metadata": {
    "colab": {
      "name": "Tweepy_.ipynb",
      "provenance": [],
      "authorship_tag": "ABX9TyO+1JQcEQA28/GOYX+lqc1M"
    },
    "kernelspec": {
      "name": "python3",
      "display_name": "Python 3"
    },
    "language_info": {
      "name": "python"
    }
  },
  "cells": [
    {
      "cell_type": "code",
      "source": [
        "!pip install tweepy --upgrade"
      ],
      "metadata": {
        "id": "7vwu1-AHTlNs"
      },
      "execution_count": null,
      "outputs": []
    },
    {
      "cell_type": "code",
      "execution_count": null,
      "metadata": {
        "id": "Pu2fqXMk_ITD"
      },
      "outputs": [],
      "source": [
        "import tweepy as tw\n",
        "import pandas as pd"
      ]
    },
    {
      "cell_type": "code",
      "source": [
        "#!pip show tweepy"
      ],
      "metadata": {
        "colab": {
          "base_uri": "https://localhost:8080/"
        },
        "id": "rg106k4tTZYn",
        "outputId": "41c73bf8-4ecb-46f9-d3d8-cbda84682f6f"
      },
      "execution_count": null,
      "outputs": [
        {
          "output_type": "stream",
          "name": "stdout",
          "text": [
            "Name: tweepy\n",
            "Version: 4.10.0\n",
            "Summary: Twitter library for Python\n",
            "Home-page: https://www.tweepy.org/\n",
            "Author: Joshua Roesslein\n",
            "Author-email: tweepy@googlegroups.com\n",
            "License: MIT\n",
            "Location: /usr/local/lib/python3.7/dist-packages\n",
            "Requires: requests-oauthlib, requests, oauthlib\n",
            "Required-by: \n"
          ]
        }
      ]
    },
    {
      "cell_type": "code",
      "source": [
        "#Variáveis do Twitter:\n",
        "#api_key\n",
        "#api_key_secret\n",
        "#bearer_token\n",
        "#access_token\n",
        "#access_token_secret"
      ],
      "metadata": {
        "id": "N8mfS9ViAATs"
      },
      "execution_count": null,
      "outputs": []
    },
    {
      "cell_type": "code",
      "source": [
        "with open ('/content/twitter_token.txt','r') as file:\n",
        "  consumer_key = file.readline().strip('\\n')\n",
        "  consumer_secret =  file.readline().strip('\\n')\n",
        "  token = file.readline().strip('\\n')\n",
        "  access_token =  file.readline().strip('\\n')\n",
        "  access_token_secret =  file.readline().strip('\\n')"
      ],
      "metadata": {
        "id": "ugsWnzWkChNN"
      },
      "execution_count": null,
      "outputs": []
    },
    {
      "cell_type": "code",
      "source": [
        "#auth = tw.OAuthHandler(consumer_key, consumer_secret)\n",
        "#auth.set_access_token(access_token, access_token_secret)\n",
        "\n",
        "#api = tw.API(auth) # Cria a conexão de acesso ao Twitter\n"
      ],
      "metadata": {
        "id": "K09JLSwkDd_1"
      },
      "execution_count": null,
      "outputs": []
    },
    {
      "cell_type": "code",
      "source": [
        "Client = tw.Client(bearer_token=token,\n",
        "                    consumer_key=consumer_key,\n",
        "                    consumer_secret=consumer_secret,\n",
        "                    access_token=access_token,\n",
        "                    access_token_secret=access_token_secret)"
      ],
      "metadata": {
        "id": "z-FdLiLfP_Jf"
      },
      "execution_count": null,
      "outputs": []
    },
    {
      "cell_type": "code",
      "source": [
        "start='2022-05-24T14:00:00Z'\n",
        "end='2022-05-24T15:00:00Z'"
      ],
      "metadata": {
        "id": "912kzyjVWZkl"
      },
      "execution_count": null,
      "outputs": []
    },
    {
      "cell_type": "code",
      "source": [
        "#public_tweets = Client.get_home_timeline(start_time=start, end_time=end, max_results=10)\n"
      ],
      "metadata": {
        "id": "J1rlIMQvTw-D"
      },
      "execution_count": null,
      "outputs": []
    },
    {
      "cell_type": "code",
      "source": [
        "recent_tweets = Client.search_recent_tweets(query='Paola' , start_time=start, end_time=end, max_results=10)"
      ],
      "metadata": {
        "id": "9UYcVvi3Vv4I"
      },
      "execution_count": null,
      "outputs": []
    },
    {
      "cell_type": "code",
      "source": [
        "for tweet in recent_tweets.data:\n",
        "  print(tweet.text)"
      ],
      "metadata": {
        "colab": {
          "base_uri": "https://localhost:8080/"
        },
        "id": "-n-_9csyVfq-",
        "outputId": "99bc04f9-778a-4c91-de13-16cafb3377c1"
      },
      "execution_count": null,
      "outputs": [
        {
          "output_type": "stream",
          "name": "stdout",
          "text": [
            "RT @simonert: Restaurante Arturito da chef Paola Carosella é atacado por bolsonaristas e tem nota rebaixada no Google; Saiba a verdade sobr…\n",
            "RT @liberdadeldrbr: Lineu Silva irá dar um pulinho no Arturito da Paola Carosella https://t.co/QVy3HMUOqJ\n",
            "RT @PiacesiRamos: Meu texto no @JornalDaCidadeO: Paola Carosella e sua trajetória rumo à ruína empresarial\n",
            "\n",
            "https://t.co/cCP9NFzTj6\n",
            "RT @nelsonpaffi: Paola, dona do restaurante \"Arturito\":\n",
            "Não me importa sua ideologia política, pois respeito a todos indistintamente.\n",
            "O que…\n",
            "Karla Paola Martínez Díaz nos comparte esta bonita fotografía en el Monumento Histórico frente al Palacio Municipal.\n",
            "\n",
            "Porque #MiINENosUne, en Oaxaca 😉👍🏻 #LaDemocraciaSoyYo\n",
            "\n",
            "Este #5DeJunio en las #Elecciones2022MX, #SíVoto2022 🙋‍♀️🙋🏽‍♂️🗳️🇲🇽\n",
            "\n",
            "👉🏻 https://t.co/FuUG2l2VWy https://t.co/Ym3m4byN0W\n",
            "RT @Aisha_com_vida: @g1 Paola Carosella é criticada depois de atacar apoiadores do Presidente Bolsonaro.\n",
            "RT @oiIuiz: Paola Mortadela, digo, Carosella, sabotou o restaurante e quase o levou à falência para comprá-lo de seus sócios por um preço b…\n",
            "RT @rafaelbboa: Mas para a Paola escroto é quem vota no Bolsonaro.\n",
            "RT @0C0RV0: Paola Carosella conta como deu \"golpe\" em sete argentinos que investiram em seu restaurante https://t.co/MROtCszgVh\n",
            "RT @JornalDaCidadeO: Paola Carosella conta como ‘passou a perna’ em sócios argentinos (veja o vídeo) https://t.co/H6fYSPPuBW\n"
          ]
        }
      ]
    }
  ]
}